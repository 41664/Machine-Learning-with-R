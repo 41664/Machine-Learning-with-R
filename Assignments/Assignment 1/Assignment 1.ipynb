{
 "cells": [
  {
   "cell_type": "markdown",
   "metadata": {},
   "source": [
    "### Assignment 1 solutions \n",
    "By Ankit Jha\n",
    "CSE- B"
   ]
  },
  {
   "cell_type": "markdown",
   "metadata": {},
   "source": [
    "## Question1\n",
    "![40.png](40.png)"
   ]
  },
  {
   "cell_type": "code",
   "execution_count": 56,
   "metadata": {},
   "outputs": [
    {
     "ename": "ERROR",
     "evalue": "Error in solve.default(nutrients): system is computationally singular: reciprocal condition number = 7.89492e-18\n",
     "output_type": "error",
     "traceback": [
      "Error in solve.default(nutrients): system is computationally singular: reciprocal condition number = 7.89492e-18\nTraceback:\n",
      "1. solve(nutrients)",
      "2. solve.default(nutrients)"
     ]
    }
   ],
   "source": [
    "nutrients <- matrix ( c(400, 1200, 800, 110, 570, 340, 90, 30, 60), nrow=3, ncol=3, byrow=TRUE)\n",
    "need <- matrix ( c(8800, 3380, 1020), nrow=3, byrow= FALSE)\n",
    "solve(nutrients)"
   ]
  },
  {
   "cell_type": "markdown",
   "metadata": {},
   "source": [
    "As it comes out, nutrients is a singular matrix i.e. there exists a linear dependence between the given elements. By observation we can find out that \n",
    "vitamin C + 2* Calcium = Vitamin A "
   ]
  },
  {
   "cell_type": "code",
   "execution_count": 55,
   "metadata": {},
   "outputs": [],
   "source": [
    "# So removing Calcium \n",
    "#nutrients <- nutrients[1:2,1:3]\n",
    "#print(nutrients)\n",
    "# Bad approach"
   ]
  },
  {
   "cell_type": "code",
   "execution_count": 57,
   "metadata": {},
   "outputs": [],
   "source": [
    "asvd=svd(nutrients)\n",
    "adiag = asvd$d\n",
    "au=asvd$u\n",
    "av=asvd$v "
   ]
  },
  {
   "cell_type": "code",
   "execution_count": 59,
   "metadata": {},
   "outputs": [
    {
     "data": {
      "text/html": [
       "<table>\n",
       "<tbody>\n",
       "\t<tr><td>0.0006092972</td><td>0.000000000 </td><td>0.000000e+00</td></tr>\n",
       "\t<tr><td>0.0000000000</td><td>0.009305992 </td><td>0.000000e+00</td></tr>\n",
       "\t<tr><td>0.0000000000</td><td>0.000000000 </td><td>7.767516e+13</td></tr>\n",
       "</tbody>\n",
       "</table>\n"
      ],
      "text/latex": [
       "\\begin{tabular}{lll}\n",
       "\t 0.0006092972 & 0.000000000  & 0.000000e+00\\\\\n",
       "\t 0.0000000000 & 0.009305992  & 0.000000e+00\\\\\n",
       "\t 0.0000000000 & 0.000000000  & 7.767516e+13\\\\\n",
       "\\end{tabular}\n"
      ],
      "text/markdown": [
       "\n",
       "| 0.0006092972 | 0.000000000  | 0.000000e+00 | \n",
       "| 0.0000000000 | 0.009305992  | 0.000000e+00 | \n",
       "| 0.0000000000 | 0.000000000  | 7.767516e+13 | \n",
       "\n",
       "\n"
      ],
      "text/plain": [
       "     [,1]         [,2]        [,3]        \n",
       "[1,] 0.0006092972 0.000000000 0.000000e+00\n",
       "[2,] 0.0000000000 0.009305992 0.000000e+00\n",
       "[3,] 0.0000000000 0.000000000 7.767516e+13"
      ]
     },
     "metadata": {},
     "output_type": "display_data"
    }
   ],
   "source": [
    "# now that we have svd to our disposal, time to calculate the inverse\n",
    "# https://www.ecse.rpi.edu/~qji/CV/svd_review.pdf\n",
    "adiaginv = 1/adiag\n",
    "adiaginv = diag(adiaginv) # creating a diagnal matrix \n",
    "adiaginv"
   ]
  },
  {
   "cell_type": "code",
   "execution_count": 62,
   "metadata": {},
   "outputs": [
    {
     "data": {
      "text/html": [
       "<table>\n",
       "<tbody>\n",
       "\t<tr><td> 8.630574e+12</td><td>-1.726115e+13</td><td>-1.726115e+13</td></tr>\n",
       "\t<tr><td>-1.726115e+13</td><td> 3.452230e+13</td><td> 3.452230e+13</td></tr>\n",
       "\t<tr><td>-1.726115e+13</td><td> 3.452230e+13</td><td> 3.452230e+13</td></tr>\n",
       "</tbody>\n",
       "</table>\n"
      ],
      "text/latex": [
       "\\begin{tabular}{lll}\n",
       "\t  8.630574e+12 & -1.726115e+13 & -1.726115e+13\\\\\n",
       "\t -1.726115e+13 &  3.452230e+13 &  3.452230e+13\\\\\n",
       "\t -1.726115e+13 &  3.452230e+13 &  3.452230e+13\\\\\n",
       "\\end{tabular}\n"
      ],
      "text/markdown": [
       "\n",
       "|  8.630574e+12 | -1.726115e+13 | -1.726115e+13 | \n",
       "| -1.726115e+13 |  3.452230e+13 |  3.452230e+13 | \n",
       "| -1.726115e+13 |  3.452230e+13 |  3.452230e+13 | \n",
       "\n",
       "\n"
      ],
      "text/plain": [
       "     [,1]          [,2]          [,3]         \n",
       "[1,]  8.630574e+12 -1.726115e+13 -1.726115e+13\n",
       "[2,] -1.726115e+13  3.452230e+13  3.452230e+13\n",
       "[3,] -1.726115e+13  3.452230e+13  3.452230e+13"
      ]
     },
     "metadata": {},
     "output_type": "display_data"
    }
   ],
   "source": [
    "# Now calculating A inverse \n",
    "nutrientinv = au %*% adiaginv\n",
    "nutrientinv = nutrientinv %*% t(au)\n",
    "nutrientinv"
   ]
  },
  {
   "cell_type": "code",
   "execution_count": 63,
   "metadata": {},
   "outputs": [
    {
     "data": {
      "text/html": [
       "<table>\n",
       "<tbody>\n",
       "\t<tr><td>  6</td></tr>\n",
       "\t<tr><td>-12</td></tr>\n",
       "\t<tr><td>  4</td></tr>\n",
       "</tbody>\n",
       "</table>\n"
      ],
      "text/latex": [
       "\\begin{tabular}{l}\n",
       "\t   6\\\\\n",
       "\t -12\\\\\n",
       "\t   4\\\\\n",
       "\\end{tabular}\n"
      ],
      "text/markdown": [
       "\n",
       "|   6 | \n",
       "| -12 | \n",
       "|   4 | \n",
       "\n",
       "\n"
      ],
      "text/plain": [
       "     [,1]\n",
       "[1,]   6 \n",
       "[2,] -12 \n",
       "[3,]   4 "
      ]
     },
     "metadata": {},
     "output_type": "display_data"
    }
   ],
   "source": [
    "# Now calculating the final values \n",
    "nutrientinv %*% need"
   ]
  },
  {
   "cell_type": "markdown",
   "metadata": {},
   "source": [
    "## Question 2 \n",
    "![41.png](41.png)"
   ]
  },
  {
   "cell_type": "code",
   "execution_count": 66,
   "metadata": {},
   "outputs": [],
   "source": [
    "# Deleting all variables of prev answer \n",
    "rm (list=ls())"
   ]
  },
  {
   "cell_type": "code",
   "execution_count": 68,
   "metadata": {},
   "outputs": [
    {
     "data": {
      "text/html": [
       "<table>\n",
       "<tbody>\n",
       "\t<tr><td> 1</td><td> 2</td><td> 3</td><td> 4</td></tr>\n",
       "\t<tr><td> 5</td><td> 6</td><td> 7</td><td> 8</td></tr>\n",
       "\t<tr><td> 9</td><td>10</td><td>11</td><td>12</td></tr>\n",
       "\t<tr><td>13</td><td>14</td><td>15</td><td>16</td></tr>\n",
       "</tbody>\n",
       "</table>\n"
      ],
      "text/latex": [
       "\\begin{tabular}{llll}\n",
       "\t  1 &  2 &  3 &  4\\\\\n",
       "\t  5 &  6 &  7 &  8\\\\\n",
       "\t  9 & 10 & 11 & 12\\\\\n",
       "\t 13 & 14 & 15 & 16\\\\\n",
       "\\end{tabular}\n"
      ],
      "text/markdown": [
       "\n",
       "|  1 |  2 |  3 |  4 | \n",
       "|  5 |  6 |  7 |  8 | \n",
       "|  9 | 10 | 11 | 12 | \n",
       "| 13 | 14 | 15 | 16 | \n",
       "\n",
       "\n"
      ],
      "text/plain": [
       "     [,1] [,2] [,3] [,4]\n",
       "[1,]  1    2    3    4  \n",
       "[2,]  5    6    7    8  \n",
       "[3,]  9   10   11   12  \n",
       "[4,] 13   14   15   16  "
      ]
     },
     "metadata": {},
     "output_type": "display_data"
    }
   ],
   "source": [
    "# Carete a matrix A 4*4\n",
    "A<- matrix(c(1,2,3,4,5,6,7,8,9,10,11,12,13,14,15,16), nrow=4, ncol=4, byrow=TRUE) \n",
    "A"
   ]
  },
  {
   "cell_type": "code",
   "execution_count": 69,
   "metadata": {},
   "outputs": [
    {
     "data": {
      "text/html": [
       "<table>\n",
       "<tbody>\n",
       "\t<tr><td> 6</td><td> 7</td><td> 8</td></tr>\n",
       "\t<tr><td>10</td><td>11</td><td>12</td></tr>\n",
       "\t<tr><td>14</td><td>15</td><td>16</td></tr>\n",
       "</tbody>\n",
       "</table>\n"
      ],
      "text/latex": [
       "\\begin{tabular}{lll}\n",
       "\t  6 &  7 &  8\\\\\n",
       "\t 10 & 11 & 12\\\\\n",
       "\t 14 & 15 & 16\\\\\n",
       "\\end{tabular}\n"
      ],
      "text/markdown": [
       "\n",
       "|  6 |  7 |  8 | \n",
       "| 10 | 11 | 12 | \n",
       "| 14 | 15 | 16 | \n",
       "\n",
       "\n"
      ],
      "text/plain": [
       "     [,1] [,2] [,3]\n",
       "[1,]  6    7    8  \n",
       "[2,] 10   11   12  \n",
       "[3,] 14   15   16  "
      ]
     },
     "metadata": {},
     "output_type": "display_data"
    }
   ],
   "source": [
    "# Extract a submatrix B exclsuing 1st row and 1st column \n",
    "B<- A[2:4,2:4]\n",
    "B"
   ]
  },
  {
   "cell_type": "code",
   "execution_count": 73,
   "metadata": {},
   "outputs": [
    {
     "data": {
      "text/html": [
       "<table>\n",
       "<tbody>\n",
       "\t<tr><td> 1</td><td>2 </td><td> 3</td><td> 4</td></tr>\n",
       "\t<tr><td> 5</td><td>6 </td><td>10</td><td>14</td></tr>\n",
       "\t<tr><td> 9</td><td>7 </td><td>11</td><td>15</td></tr>\n",
       "\t<tr><td>13</td><td>8 </td><td>12</td><td>16</td></tr>\n",
       "</tbody>\n",
       "</table>\n"
      ],
      "text/latex": [
       "\\begin{tabular}{llll}\n",
       "\t  1 & 2  &  3 &  4\\\\\n",
       "\t  5 & 6  & 10 & 14\\\\\n",
       "\t  9 & 7  & 11 & 15\\\\\n",
       "\t 13 & 8  & 12 & 16\\\\\n",
       "\\end{tabular}\n"
      ],
      "text/markdown": [
       "\n",
       "|  1 | 2  |  3 |  4 | \n",
       "|  5 | 6  | 10 | 14 | \n",
       "|  9 | 7  | 11 | 15 | \n",
       "| 13 | 8  | 12 | 16 | \n",
       "\n",
       "\n"
      ],
      "text/plain": [
       "     [,1] [,2] [,3] [,4]\n",
       "[1,]  1   2     3    4  \n",
       "[2,]  5   6    10   14  \n",
       "[3,]  9   7    11   15  \n",
       "[4,] 13   8    12   16  "
      ]
     },
     "metadata": {},
     "output_type": "display_data"
    }
   ],
   "source": [
    "# Put transpose of B in place of B in A\n",
    "B_ <- t(B)\n",
    "A[2:4,2:4]=B_[,]\n",
    "A"
   ]
  },
  {
   "cell_type": "markdown",
   "metadata": {},
   "source": [
    "## Question 3\n",
    "![42.png](42.png)"
   ]
  },
  {
   "cell_type": "code",
   "execution_count": 74,
   "metadata": {},
   "outputs": [],
   "source": [
    "# Deleting all variables of prev answer \n",
    "rm (list=ls())"
   ]
  },
  {
   "cell_type": "code",
   "execution_count": 75,
   "metadata": {},
   "outputs": [
    {
     "data": {
      "text/html": [
       "<ol class=list-inline>\n",
       "\t<li>12</li>\n",
       "\t<li>23</li>\n",
       "\t<li>41</li>\n",
       "\t<li>61</li>\n",
       "\t<li>85</li>\n",
       "\t<li>15</li>\n",
       "\t<li>35</li>\n",
       "\t<li>41</li>\n",
       "\t<li>69</li>\n",
       "\t<li>99</li>\n",
       "\t<li>8</li>\n",
       "\t<li>32</li>\n",
       "\t<li>50</li>\n",
       "\t<li>72</li>\n",
       "\t<li>90</li>\n",
       "\t<li>8</li>\n",
       "\t<li>21</li>\n",
       "\t<li>55</li>\n",
       "\t<li>80</li>\n",
       "\t<li>95</li>\n",
       "\t<li>40</li>\n",
       "\t<li>45</li>\n",
       "\t<li>75</li>\n",
       "\t<li>28</li>\n",
       "\t<li>58</li>\n",
       "\t<li>78</li>\n",
       "\t<li>60</li>\n",
       "</ol>\n"
      ],
      "text/latex": [
       "\\begin{enumerate*}\n",
       "\\item 12\n",
       "\\item 23\n",
       "\\item 41\n",
       "\\item 61\n",
       "\\item 85\n",
       "\\item 15\n",
       "\\item 35\n",
       "\\item 41\n",
       "\\item 69\n",
       "\\item 99\n",
       "\\item 8\n",
       "\\item 32\n",
       "\\item 50\n",
       "\\item 72\n",
       "\\item 90\n",
       "\\item 8\n",
       "\\item 21\n",
       "\\item 55\n",
       "\\item 80\n",
       "\\item 95\n",
       "\\item 40\n",
       "\\item 45\n",
       "\\item 75\n",
       "\\item 28\n",
       "\\item 58\n",
       "\\item 78\n",
       "\\item 60\n",
       "\\end{enumerate*}\n"
      ],
      "text/markdown": [
       "1. 12\n",
       "2. 23\n",
       "3. 41\n",
       "4. 61\n",
       "5. 85\n",
       "6. 15\n",
       "7. 35\n",
       "8. 41\n",
       "9. 69\n",
       "10. 99\n",
       "11. 8\n",
       "12. 32\n",
       "13. 50\n",
       "14. 72\n",
       "15. 90\n",
       "16. 8\n",
       "17. 21\n",
       "18. 55\n",
       "19. 80\n",
       "20. 95\n",
       "21. 40\n",
       "22. 45\n",
       "23. 75\n",
       "24. 28\n",
       "25. 58\n",
       "26. 78\n",
       "27. 60\n",
       "\n",
       "\n"
      ],
      "text/plain": [
       " [1] 12 23 41 61 85 15 35 41 69 99  8 32 50 72 90  8 21 55 80 95 40 45 75 28 58\n",
       "[26] 78 60"
      ]
     },
     "metadata": {},
     "output_type": "display_data"
    }
   ],
   "source": [
    "FML_marks <- c(12,23,41,61,85,15,35,41,69,99,8,32,50,72,90,8,21,55,80,95,40,45,75,28,58,78,60)\n",
    "FML_marks"
   ]
  },
  {
   "cell_type": "code",
   "execution_count": 84,
   "metadata": {},
   "outputs": [
    {
     "data": {
      "image/png": "[encoded data removed]",
      "text/plain": [
       "Plot with title “Histogram of FML marks”"
      ]
     },
     "metadata": {},
     "output_type": "display_data"
    }
   ],
   "source": [
    "hist(x=FML_marks,\n",
    "    main=\"Histogram of FML marks\",\n",
    "    col=\"red\",\n",
    "    breaks=5, #Breaking\n",
    "    border=\"green\",\n",
    "    xlab=\"Marks\",\n",
    "    ylim=c(0,10),\n",
    "    xlim=c(0,100))"
   ]
  },
  {
   "cell_type": "code",
   "execution_count": 92,
   "metadata": {},
   "outputs": [
    {
     "data": {
      "text/html": [
       "<ol class=list-inline>\n",
       "\t<li>(0,20]</li>\n",
       "\t<li>(20,40]</li>\n",
       "\t<li>(40,60]</li>\n",
       "\t<li>(60,80]</li>\n",
       "\t<li>(80,100]</li>\n",
       "\t<li>(0,20]</li>\n",
       "\t<li>(20,40]</li>\n",
       "\t<li>(40,60]</li>\n",
       "\t<li>(60,80]</li>\n",
       "\t<li>(80,100]</li>\n",
       "\t<li>(0,20]</li>\n",
       "\t<li>(20,40]</li>\n",
       "\t<li>(40,60]</li>\n",
       "\t<li>(60,80]</li>\n",
       "\t<li>(80,100]</li>\n",
       "\t<li>(0,20]</li>\n",
       "\t<li>(20,40]</li>\n",
       "\t<li>(40,60]</li>\n",
       "\t<li>(60,80]</li>\n",
       "\t<li>(80,100]</li>\n",
       "\t<li>(20,40]</li>\n",
       "\t<li>(40,60]</li>\n",
       "\t<li>(60,80]</li>\n",
       "\t<li>(20,40]</li>\n",
       "\t<li>(40,60]</li>\n",
       "\t<li>(60,80]</li>\n",
       "\t<li>(40,60]</li>\n",
       "</ol>\n",
       "\n",
       "<details>\n",
       "\t<summary style=display:list-item;cursor:pointer>\n",
       "\t\t<strong>Levels</strong>:\n",
       "\t</summary>\n",
       "\t<ol class=list-inline>\n",
       "\t\t<li>'(0,20]'</li>\n",
       "\t\t<li>'(20,40]'</li>\n",
       "\t\t<li>'(40,60]'</li>\n",
       "\t\t<li>'(60,80]'</li>\n",
       "\t\t<li>'(80,100]'</li>\n",
       "\t</ol>\n",
       "</details>"
      ],
      "text/latex": [
       "\\begin{enumerate*}\n",
       "\\item (0,20{]}\n",
       "\\item (20,40{]}\n",
       "\\item (40,60{]}\n",
       "\\item (60,80{]}\n",
       "\\item (80,100{]}\n",
       "\\item (0,20{]}\n",
       "\\item (20,40{]}\n",
       "\\item (40,60{]}\n",
       "\\item (60,80{]}\n",
       "\\item (80,100{]}\n",
       "\\item (0,20{]}\n",
       "\\item (20,40{]}\n",
       "\\item (40,60{]}\n",
       "\\item (60,80{]}\n",
       "\\item (80,100{]}\n",
       "\\item (0,20{]}\n",
       "\\item (20,40{]}\n",
       "\\item (40,60{]}\n",
       "\\item (60,80{]}\n",
       "\\item (80,100{]}\n",
       "\\item (20,40{]}\n",
       "\\item (40,60{]}\n",
       "\\item (60,80{]}\n",
       "\\item (20,40{]}\n",
       "\\item (40,60{]}\n",
       "\\item (60,80{]}\n",
       "\\item (40,60{]}\n",
       "\\end{enumerate*}\n",
       "\n",
       "\\emph{Levels}: \\begin{enumerate*}\n",
       "\\item '(0,20{]}'\n",
       "\\item '(20,40{]}'\n",
       "\\item '(40,60{]}'\n",
       "\\item '(60,80{]}'\n",
       "\\item '(80,100{]}'\n",
       "\\end{enumerate*}\n"
      ],
      "text/markdown": [
       "1. (0,20]\n",
       "2. (20,40]\n",
       "3. (40,60]\n",
       "4. (60,80]\n",
       "5. (80,100]\n",
       "6. (0,20]\n",
       "7. (20,40]\n",
       "8. (40,60]\n",
       "9. (60,80]\n",
       "10. (80,100]\n",
       "11. (0,20]\n",
       "12. (20,40]\n",
       "13. (40,60]\n",
       "14. (60,80]\n",
       "15. (80,100]\n",
       "16. (0,20]\n",
       "17. (20,40]\n",
       "18. (40,60]\n",
       "19. (60,80]\n",
       "20. (80,100]\n",
       "21. (20,40]\n",
       "22. (40,60]\n",
       "23. (60,80]\n",
       "24. (20,40]\n",
       "25. (40,60]\n",
       "26. (60,80]\n",
       "27. (40,60]\n",
       "\n",
       "\n",
       "\n",
       "**Levels**: 1. '(0,20]'\n",
       "2. '(20,40]'\n",
       "3. '(40,60]'\n",
       "4. '(60,80]'\n",
       "5. '(80,100]'\n",
       "\n",
       "\n"
      ],
      "text/plain": [
       " [1] (0,20]   (20,40]  (40,60]  (60,80]  (80,100] (0,20]   (20,40]  (40,60] \n",
       " [9] (60,80]  (80,100] (0,20]   (20,40]  (40,60]  (60,80]  (80,100] (0,20]  \n",
       "[17] (20,40]  (40,60]  (60,80]  (80,100] (20,40]  (40,60]  (60,80]  (20,40] \n",
       "[25] (40,60]  (60,80]  (40,60] \n",
       "Levels: (0,20] (20,40] (40,60] (60,80] (80,100]"
      ]
     },
     "metadata": {},
     "output_type": "display_data"
    }
   ],
   "source": [
    "# https://stat.ethz.ch/pipermail/r-help/2012-July/319703.html\n",
    "# We need to count frequencies over a range \n",
    "a=seq(0,5)\n",
    "a=a*20\n",
    "cut=cut(FML_marks, breaks=a)\n",
    "cut"
   ]
  },
  {
   "cell_type": "code",
   "execution_count": 97,
   "metadata": {},
   "outputs": [
    {
     "data": {
      "text/html": [
       "<table>\n",
       "<thead><tr><th scope=col>cut</th><th scope=col>Freq</th></tr></thead>\n",
       "<tbody>\n",
       "\t<tr><td>(0,20]  </td><td>4       </td></tr>\n",
       "\t<tr><td>(20,40] </td><td>6       </td></tr>\n",
       "\t<tr><td>(40,60] </td><td>7       </td></tr>\n",
       "\t<tr><td>(60,80] </td><td>6       </td></tr>\n",
       "\t<tr><td>(80,100]</td><td>4       </td></tr>\n",
       "</tbody>\n",
       "</table>\n"
      ],
      "text/latex": [
       "\\begin{tabular}{r|ll}\n",
       " cut & Freq\\\\\n",
       "\\hline\n",
       "\t (0,20{]}   & 4         \\\\\n",
       "\t (20,40{]}  & 6         \\\\\n",
       "\t (40,60{]}  & 7         \\\\\n",
       "\t (60,80{]}  & 6         \\\\\n",
       "\t (80,100{]} & 4         \\\\\n",
       "\\end{tabular}\n"
      ],
      "text/markdown": [
       "\n",
       "cut | Freq | \n",
       "|---|---|---|---|---|\n",
       "| (0,20]   | 4        | \n",
       "| (20,40]  | 6        | \n",
       "| (40,60]  | 7        | \n",
       "| (60,80]  | 6        | \n",
       "| (80,100] | 4        | \n",
       "\n",
       "\n"
      ],
      "text/plain": [
       "  cut      Freq\n",
       "1 (0,20]   4   \n",
       "2 (20,40]  6   \n",
       "3 (40,60]  7   \n",
       "4 (60,80]  6   \n",
       "5 (80,100] 4   "
      ]
     },
     "metadata": {},
     "output_type": "display_data"
    }
   ],
   "source": [
    "FML_freq= as.data.frame(table(cut))\n",
    "FML_freq"
   ]
  },
  {
   "cell_type": "code",
   "execution_count": 108,
   "metadata": {},
   "outputs": [
    {
     "data": {
      "image/png": "[encoded data removed]",
      "text/plain": [
       "Plot with title “Line chart of FML marks”"
      ]
     },
     "metadata": {},
     "output_type": "display_data"
    }
   ],
   "source": [
    "plot(y= c(4,6,7,6,4),x=c(20,40,60,80,100),type=\"o\",main=\"Line chart of FML marks\")\n",
    "# Solve this issue here "
   ]
  },
  {
   "cell_type": "markdown",
   "metadata": {},
   "source": [
    "## Question 4 \n",
    "![43.png](43.png)"
   ]
  },
  {
   "cell_type": "code",
   "execution_count": 109,
   "metadata": {},
   "outputs": [],
   "source": [
    "# Deleting all variables of prev answer \n",
    "rm (list=ls())"
   ]
  },
  {
   "cell_type": "code",
   "execution_count": 116,
   "metadata": {},
   "outputs": [
    {
     "data": {
      "text/html": [
       "<table>\n",
       "<thead><tr><th scope=col>Language</th><th scope=col>Population</th></tr></thead>\n",
       "<tbody>\n",
       "\t<tr><td>Hindi    </td><td>422048642</td></tr>\n",
       "\t<tr><td>English  </td><td>   226449</td></tr>\n",
       "\t<tr><td>Bengali  </td><td> 83369769</td></tr>\n",
       "\t<tr><td>Telugu   </td><td> 74002856</td></tr>\n",
       "\t<tr><td>Marathi  </td><td> 71936894</td></tr>\n",
       "\t<tr><td>Tamil    </td><td> 60793814</td></tr>\n",
       "</tbody>\n",
       "</table>\n"
      ],
      "text/latex": [
       "\\begin{tabular}{r|ll}\n",
       " Language & Population\\\\\n",
       "\\hline\n",
       "\t Hindi     & 422048642\\\\\n",
       "\t English   &    226449\\\\\n",
       "\t Bengali   &  83369769\\\\\n",
       "\t Telugu    &  74002856\\\\\n",
       "\t Marathi   &  71936894\\\\\n",
       "\t Tamil     &  60793814\\\\\n",
       "\\end{tabular}\n"
      ],
      "text/markdown": [
       "\n",
       "Language | Population | \n",
       "|---|---|---|---|---|---|\n",
       "| Hindi     | 422048642 | \n",
       "| English   |    226449 | \n",
       "| Bengali   |  83369769 | \n",
       "| Telugu    |  74002856 | \n",
       "| Marathi   |  71936894 | \n",
       "| Tamil     |  60793814 | \n",
       "\n",
       "\n"
      ],
      "text/plain": [
       "  Language Population\n",
       "1 Hindi    422048642 \n",
       "2 English     226449 \n",
       "3 Bengali   83369769 \n",
       "4 Telugu    74002856 \n",
       "5 Marathi   71936894 \n",
       "6 Tamil     60793814 "
      ]
     },
     "metadata": {},
     "output_type": "display_data"
    }
   ],
   "source": [
    "Language <- c(\"Hindi\", \"English\", \"Bengali\", \"Telugu\", \"Marathi\", \"Tamil\", \"Urdu\", \"Kannada\",\n",
    "             \"Gujarati\", \"Odia\", \"Malayalam\", \"Sanskrit\")\n",
    "Population <- c(422048642, 226449, 83369769, 74002856, 71936894, 60793814, 5153611, 37924011, \n",
    "               46091617, 33017446, 33066392, 14135)\n",
    "table<- data.frame(Language, Population)\n",
    "head(table)"
   ]
  },
  {
   "cell_type": "code",
   "execution_count": 132,
   "metadata": {},
   "outputs": [
    {
     "data": {},
     "metadata": {},
     "output_type": "display_data"
    },
    {
     "data": {
      "image/png": "[encoded data removed]",
      "text/plain": [
       "plot without title"
      ]
     },
     "metadata": {},
     "output_type": "display_data"
    }
   ],
   "source": [
    "library(ggplot2)\n",
    "# remove stupid scientific notation \n",
    "options(scipen=10000) \n",
    "p<-ggplot(data=table, aes(x=Language, y=Population)) +\n",
    "  geom_bar(stat=\"identity\", color=\"blue\", fill=\"white\",width=0.5)+\n",
    "theme(axis.text.x = element_text(angle = 90, hjust = 1)) +\n",
    "ggtitle(\"Language speakers\")\n",
    "p"
   ]
  },
  {
   "cell_type": "code",
   "execution_count": 133,
   "metadata": {},
   "outputs": [
    {
     "name": "stderr",
     "output_type": "stream",
     "text": [
      "Installing package into ‘/home/brainsick/R/x86_64-pc-linux-gnu-library/3.4’\n",
      "(as ‘lib’ is unspecified)\n"
     ]
    }
   ],
   "source": [
    "install.packages(\"plotrix\")\n",
    "library(plotrix)"
   ]
  },
  {
   "cell_type": "code",
   "execution_count": 143,
   "metadata": {},
   "outputs": [
    {
     "data": {
      "image/png": "[encoded data removed]",
      "text/plain": [
       "Plot with title “Language population pie”"
      ]
     },
     "metadata": {},
     "output_type": "display_data"
    }
   ],
   "source": [
    "pie3D(Population, labels= Language, main=\"Language population pie\")\n",
    "# I hate plotrix. Will find alternative "
   ]
  }
 ],
 "metadata": {
  "kernelspec": {
   "display_name": "R",
   "language": "R",
   "name": "ir"
  },
  "language_info": {
   "codemirror_mode": "r",
   "file_extension": ".r",
   "mimetype": "text/x-r-source",
   "name": "R",
   "pygments_lexer": "r",
   "version": "3.4.2"
  },
  "widgets": {
   "state": {},
   "version": "1.1.2"
  }
 },
 "nbformat": 4,
 "nbformat_minor": 2
}
