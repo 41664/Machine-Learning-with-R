{
 "cells": [
  {
   "cell_type": "markdown",
   "metadata": {},
   "source": [
    "# R Tutorial\n",
    "These are my notes for R. I learned R long ago and forgot a lot about how things work here. So here I created a klind of cheat sheet where I can look up to and see how things work. I hope this is useful to people as much as it is to me"
   ]
  },
  {
   "cell_type": "code",
   "execution_count": 52,
   "metadata": {},
   "outputs": [
    {
     "name": "stdout",
     "output_type": "stream",
     "text": [
      "[1] 4\n"
     ]
    }
   ],
   "source": [
    "#This is a comment\n",
    "#Multiple line comments are not allowed\n",
    "a <- 4\n",
    "print(a)"
   ]
  },
  {
   "cell_type": "markdown",
   "metadata": {},
   "source": [
    "### Variable assignment in R\n",
    "* **a <- 5 or left assignment** is the proper way to define variables which means the value on right is assigned to the variable on the left \n",
    "* **a -> b or right assignment** can be used to give the value of a to be (given opebject b exists at all\n",
    "\n",
    "* Instead of one \">\" we can also use 2 \">\" as in a<<-b . It is a convention in R to not use the = sign unless assigning for a function parameter"
   ]
  },
  {
   "cell_type": "code",
   "execution_count": 53,
   "metadata": {},
   "outputs": [
    {
     "data": {
      "text/html": [
       "'logical'"
      ],
      "text/latex": [
       "'logical'"
      ],
      "text/markdown": [
       "'logical'"
      ],
      "text/plain": [
       "[1] \"logical\""
      ]
     },
     "metadata": {},
     "output_type": "display_data"
    },
    {
     "data": {
      "text/html": [
       "'numeric'"
      ],
      "text/latex": [
       "'numeric'"
      ],
      "text/markdown": [
       "'numeric'"
      ],
      "text/plain": [
       "[1] \"numeric\""
      ]
     },
     "metadata": {},
     "output_type": "display_data"
    },
    {
     "data": {
      "text/html": [
       "'integer'"
      ],
      "text/latex": [
       "'integer'"
      ],
      "text/markdown": [
       "'integer'"
      ],
      "text/plain": [
       "[1] \"integer\""
      ]
     },
     "metadata": {},
     "output_type": "display_data"
    },
    {
     "data": {
      "text/html": [
       "'complex'"
      ],
      "text/latex": [
       "'complex'"
      ],
      "text/markdown": [
       "'complex'"
      ],
      "text/plain": [
       "[1] \"complex\""
      ]
     },
     "metadata": {},
     "output_type": "display_data"
    },
    {
     "data": {
      "text/html": [
       "'character'"
      ],
      "text/latex": [
       "'character'"
      ],
      "text/markdown": [
       "'character'"
      ],
      "text/plain": [
       "[1] \"character\""
      ]
     },
     "metadata": {},
     "output_type": "display_data"
    }
   ],
   "source": [
    "a <- TRUE  #T stands for True and F stands for False\n",
    "class(a) #The fucntion tells us what data type the variable is in\n",
    "b <- 23.4\n",
    "class(b)\n",
    "c <- 2L\n",
    "class(c)\n",
    "d<- 1+2i #Note it is not j like python\n",
    "class(d)\n",
    "e<- \"The quick brown fox\"\n",
    "class(e)"
   ]
  },
  {
   "cell_type": "markdown",
   "metadata": {},
   "source": [
    "### Data structures in R"
   ]
  },
  {
   "cell_type": "code",
   "execution_count": 66,
   "metadata": {},
   "outputs": [
    {
     "name": "stdout",
     "output_type": "stream",
     "text": [
      "[1] \"red\"    \"green\"  \"yellow\"\n"
     ]
    }
   ],
   "source": [
    "#vectors- They contain a list of data of the same class\n",
    "#c stands for combine\n",
    "apple <- c('red','green',\"yellow\")\n",
    "print(apple)"
   ]
  },
  {
   "cell_type": "code",
   "execution_count": 55,
   "metadata": {},
   "outputs": [
    {
     "name": "stdout",
     "output_type": "stream",
     "text": [
      "[[1]]\n",
      "[1] 2 5 3\n",
      "\n",
      "[[2]]\n",
      "[1] 21.3\n",
      "\n",
      "[[3]]\n",
      "[1] \"Dog\"\n",
      "\n"
     ]
    }
   ],
   "source": [
    "#Vectors can contain only one type of data and lists can contain everything\n",
    "list1 <- list(c(2,5,3),21.3,\"Dog\")\n",
    "print(list1)"
   ]
  },
  {
   "cell_type": "code",
   "execution_count": 56,
   "metadata": {},
   "outputs": [
    {
     "name": "stderr",
     "output_type": "stream",
     "text": [
      "Warning message in matrix(c(8, 2, 3, 4, 5, 6, 7, 1, 8, 9, 10), 3, 4):\n",
      "“data length [11] is not a sub-multiple or multiple of the number of rows [3]”"
     ]
    },
    {
     "name": "stdout",
     "output_type": "stream",
     "text": [
      "     [,1] [,2] [,3] [,4]\n",
      "[1,]    8    4    7    9\n",
      "[2,]    2    5    1   10\n",
      "[3,]    3    6    8    8\n"
     ]
    }
   ],
   "source": [
    "#Matrix are 2 dimensional vectors\n",
    "M = matrix( c('a','a','b','c','b','a'), nrow = 2, ncol = 3, byrow = TRUE)\n",
    "# This is how the matrix function will work\n",
    "M2= matrix( c(8,2,3,4,5,6,7,1,8,9,10), 3, 4)\n",
    "print(M2)\n",
    "#In case the data length is not equal to r*c, it will issue a warning and rotate the array elements"
   ]
  },
  {
   "cell_type": "code",
   "execution_count": 57,
   "metadata": {},
   "outputs": [
    {
     "name": "stdout",
     "output_type": "stream",
     "text": [
      ", , 1\n",
      "\n",
      "     [,1]     [,2]     [,3]    \n",
      "[1,] \"green\"  \"yellow\" \"green\" \n",
      "[2,] \"yellow\" \"green\"  \"yellow\"\n",
      "[3,] \"green\"  \"yellow\" \"green\" \n",
      "\n",
      ", , 2\n",
      "\n",
      "     [,1]     [,2]     [,3]    \n",
      "[1,] \"yellow\" \"green\"  \"yellow\"\n",
      "[2,] \"green\"  \"yellow\" \"green\" \n",
      "[3,] \"yellow\" \"green\"  \"yellow\"\n",
      "\n"
     ]
    }
   ],
   "source": [
    "#An N dimensional Matrix is called an Array \n",
    "# Create an array.\n",
    "a <- array(c('green','yellow'),dim = c(3,3,2))\n",
    "print(a)"
   ]
  },
  {
   "cell_type": "code",
   "execution_count": 58,
   "metadata": {},
   "outputs": [
    {
     "name": "stdout",
     "output_type": "stream",
     "text": [
      " [1] 1 1 2 3 1 2 3 5 7 2 6 8 1 4 6 8\n",
      "Levels: 1 2 3 4 5 6 7 8\n",
      "number of levels is 8"
     ]
    }
   ],
   "source": [
    "#A less used data structure is a factor. It stores data like vectors but distinct values specefically \n",
    "a <- c(1,1,2,3,1,2,3,5,7,2,6,8,1,4,6,8)\n",
    "a <- factor(a)\n",
    "print(a)\n",
    "cat ( \"number of levels is\" , nlevels(a) )\n",
    "#Cat function is same as print function but it combines multiple inputs together so is more valid"
   ]
  },
  {
   "cell_type": "code",
   "execution_count": 59,
   "metadata": {},
   "outputs": [
    {
     "name": "stdout",
     "output_type": "stream",
     "text": [
      "  gender height weight Age\n",
      "1   Male  152.0     81  42\n",
      "2   Male  171.5     93  38\n",
      "3 Female  165.0     78  26\n"
     ]
    }
   ],
   "source": [
    "# Create the data frame.\n",
    "#This is similar to Pandas data fram in Python\n",
    "BMI <- \tdata.frame(\n",
    "   gender = c(\"Male\", \"Male\",\"Female\"), \n",
    "   height = c(152, 171.5, 165), \n",
    "   weight = c(81,93, 78),\n",
    "   Age = c(42,38,26)\n",
    ")\n",
    "print(BMI)"
   ]
  },
  {
   "cell_type": "code",
   "execution_count": 60,
   "metadata": {},
   "outputs": [
    {
     "data": {
      "text/html": [
       "<ol class=list-inline>\n",
       "\t<li>'a'</li>\n",
       "\t<li>'apple'</li>\n",
       "\t<li>'b'</li>\n",
       "\t<li>'BMI'</li>\n",
       "\t<li>'c'</li>\n",
       "\t<li>'d'</li>\n",
       "\t<li>'e'</li>\n",
       "\t<li>'list1'</li>\n",
       "\t<li>'M'</li>\n",
       "\t<li>'M2'</li>\n",
       "</ol>\n"
      ],
      "text/latex": [
       "\\begin{enumerate*}\n",
       "\\item 'a'\n",
       "\\item 'apple'\n",
       "\\item 'b'\n",
       "\\item 'BMI'\n",
       "\\item 'c'\n",
       "\\item 'd'\n",
       "\\item 'e'\n",
       "\\item 'list1'\n",
       "\\item 'M'\n",
       "\\item 'M2'\n",
       "\\end{enumerate*}\n"
      ],
      "text/markdown": [
       "1. 'a'\n",
       "2. 'apple'\n",
       "3. 'b'\n",
       "4. 'BMI'\n",
       "5. 'c'\n",
       "6. 'd'\n",
       "7. 'e'\n",
       "8. 'list1'\n",
       "9. 'M'\n",
       "10. 'M2'\n",
       "\n",
       "\n"
      ],
      "text/plain": [
       " [1] \"a\"     \"apple\" \"b\"     \"BMI\"   \"c\"     \"d\"     \"e\"     \"list1\" \"M\"    \n",
       "[10] \"M2\"   "
      ]
     },
     "metadata": {},
     "output_type": "display_data"
    },
    {
     "data": {
      "text/html": [
       "<ol class=list-inline>\n",
       "\t<li>'apple'</li>\n",
       "\t<li>'e'</li>\n",
       "</ol>\n"
      ],
      "text/latex": [
       "\\begin{enumerate*}\n",
       "\\item 'apple'\n",
       "\\item 'e'\n",
       "\\end{enumerate*}\n"
      ],
      "text/markdown": [
       "1. 'apple'\n",
       "2. 'e'\n",
       "\n",
       "\n"
      ],
      "text/plain": [
       "[1] \"apple\" \"e\"    "
      ]
     },
     "metadata": {},
     "output_type": "display_data"
    }
   ],
   "source": [
    "#Printing all variables that we have in this file\n",
    "ls()\n",
    "ls ( pattern= \"e\")"
   ]
  },
  {
   "cell_type": "code",
   "execution_count": 61,
   "metadata": {},
   "outputs": [],
   "source": [
    "rm ( a )\n",
    "# Deletes one variable\n",
    "rm ( list = ls() )\n",
    "#Deletes a list of variables"
   ]
  },
  {
   "cell_type": "markdown",
   "metadata": {},
   "source": [
    "### Arithmetic Operatios basics"
   ]
  },
  {
   "cell_type": "code",
   "execution_count": 69,
   "metadata": {},
   "outputs": [
    {
     "name": "stdout",
     "output_type": "stream",
     "text": [
      "[1] 5 7 9\n",
      "[1] -3 -3 -3\n",
      "[1]  4 10 18\n",
      "[1] 0.25 0.40 0.50\n",
      "[1] 1 2 3\n",
      "[1] 0 0 0\n",
      "[1]   1  32 729\n"
     ]
    }
   ],
   "source": [
    "a <- c(1,2,3)\n",
    "b <- c(4,5,6)\n",
    "print(a+b)\n",
    "print(a-b)\n",
    "print(a*b)\n",
    "print(a/b)\n",
    "print(a%%b) #remainder\n",
    "print(a %/% b) #integer quotients \n",
    "print(a^b)  #Power"
   ]
  },
  {
   "cell_type": "markdown",
   "metadata": {},
   "source": [
    "#### The logical operators are more or less the same as everywhere else \n",
    "#### == != > >= < <= "
   ]
  },
  {
   "cell_type": "code",
   "execution_count": 72,
   "metadata": {},
   "outputs": [
    {
     "data": {
      "text/html": [
       "<ol class=list-inline>\n",
       "\t<li>TRUE</li>\n",
       "\t<li>FALSE</li>\n",
       "\t<li>TRUE</li>\n",
       "\t<li>FALSE</li>\n",
       "\t<li>FALSE</li>\n",
       "\t<li>FALSE</li>\n",
       "</ol>\n"
      ],
      "text/latex": [
       "\\begin{enumerate*}\n",
       "\\item TRUE\n",
       "\\item FALSE\n",
       "\\item TRUE\n",
       "\\item FALSE\n",
       "\\item FALSE\n",
       "\\item FALSE\n",
       "\\end{enumerate*}\n"
      ],
      "text/markdown": [
       "1. TRUE\n",
       "2. FALSE\n",
       "3. TRUE\n",
       "4. FALSE\n",
       "5. FALSE\n",
       "6. FALSE\n",
       "\n",
       "\n"
      ],
      "text/plain": [
       "[1]  TRUE FALSE  TRUE FALSE FALSE FALSE"
      ]
     },
     "metadata": {},
     "output_type": "display_data"
    },
    {
     "data": {
      "text/html": [
       "TRUE"
      ],
      "text/latex": [
       "TRUE"
      ],
      "text/markdown": [
       "TRUE"
      ],
      "text/plain": [
       "[1] TRUE"
      ]
     },
     "metadata": {},
     "output_type": "display_data"
    }
   ],
   "source": [
    "# Elementswise vs General logical operators \n",
    "a<- c(T,T,T,F,F,F)\n",
    "b<- c(T,F,T,F,T,F)\n",
    "a&b\n",
    "a&&b # compares only first element\n",
    "# sameway | vs || \n",
    "# Not for not"
   ]
  },
  {
   "cell_type": "code",
   "execution_count": 74,
   "metadata": {},
   "outputs": [
    {
     "name": "stdout",
     "output_type": "stream",
     "text": [
      "[1] TRUE\n"
     ]
    }
   ],
   "source": [
    "a<- c(1,2,3,4,5,6)\n",
    "print (1 %in% a)\n",
    "# This operator searches for an element in the vector"
   ]
  },
  {
   "cell_type": "markdown",
   "metadata": {},
   "source": [
    "### Learning about if else, Loop and fucntions in R"
   ]
  },
  {
   "cell_type": "code",
   "execution_count": 4,
   "metadata": {},
   "outputs": [
    {
     "name": "stdout",
     "output_type": "stream",
     "text": [
      "[1] \"The truth prevails\"\n"
     ]
    }
   ],
   "source": [
    "if(2+3==5)\n",
    "    {\n",
    "    print(\"The truth prevails\")\n",
    "} else if(2==1){    #This needs to be in the same line. No newline or there is error\n",
    "    print(\"Not really\")\n",
    "} else{\n",
    "    print(\"Why are we even printing this\")\n",
    "}"
   ]
  },
  {
   "cell_type": "code",
   "execution_count": 11,
   "metadata": {},
   "outputs": [
    {
     "data": {
      "text/html": [
       "'three'"
      ],
      "text/latex": [
       "'three'"
      ],
      "text/markdown": [
       "'three'"
      ],
      "text/plain": [
       "[1] \"three\""
      ]
     },
     "metadata": {},
     "output_type": "display_data"
    }
   ],
   "source": [
    "# I don't really understand the absurdity of R switch functions. There is no default parameter. \n",
    "# You can do this\n",
    "x<-3\n",
    "#This goes of the form switch (expression, condition1, condition2, condition3, condition4) \n",
    "#The condition executes by index \n",
    "switch (x, \"one\", \"two\", \"three\")"
   ]
  },
  {
   "cell_type": "code",
   "execution_count": 16,
   "metadata": {},
   "outputs": [
    {
     "name": "stdout",
     "output_type": "stream",
     "text": [
      "[1] 10\n",
      "[1] 9\n",
      "[1] 8\n",
      "[1] 7\n",
      "[1] 6\n",
      "[1] 5\n",
      "[1] 4\n",
      "[1] 3\n",
      "[1] 2\n",
      "[1] 1\n"
     ]
    }
   ],
   "source": [
    "#Repeat loop, More like DO while but pretty dumb \n",
    "x<- 10\n",
    "repeat{\n",
    "    print(x)\n",
    "    x<- x-1\n",
    "    if(x==0){\n",
    "        break\n",
    "    }\n",
    "}"
   ]
  },
  {
   "cell_type": "code",
   "execution_count": 21,
   "metadata": {},
   "outputs": [
    {
     "name": "stdout",
     "output_type": "stream",
     "text": [
      "[1] 1\n",
      "[1] 2\n",
      "[1] 3\n",
      "[1] 4\n",
      "[1] 5\n",
      "[1] 6\n",
      "[1] 7\n",
      "[1] 8\n",
      "[1] 9\n",
      "[1] 10\n"
     ]
    }
   ],
   "source": [
    "for( i in seq(1,10)){\n",
    " print(i)   \n",
    "}"
   ]
  },
  {
   "cell_type": "code",
   "execution_count": 23,
   "metadata": {},
   "outputs": [
    {
     "name": "stdout",
     "output_type": "stream",
     "text": [
      "[1] 1\n",
      "[1] 2\n",
      "[1] 3\n",
      "[1] 4\n",
      "[1] 5\n"
     ]
    }
   ],
   "source": [
    "i <- 1\n",
    "while (i < 6) {\n",
    "print(i)\n",
    "i<- i+ 1\n",
    "}"
   ]
  },
  {
   "cell_type": "code",
   "execution_count": 25,
   "metadata": {},
   "outputs": [
    {
     "name": "stdout",
     "output_type": "stream",
     "text": [
      "[1] 26\n",
      "[1] 58\n"
     ]
    }
   ],
   "source": [
    "# Create a function \n",
    "new.function <- function(a=1,b,c) { #default arguements are allowed\n",
    "   result <- a * b + c\n",
    "   print(result)\n",
    "}\n",
    "\n",
    "# Call the function by position of arguments.\n",
    "new.function(5,3,11)\n",
    "\n",
    "# Call the function by names of the arguments.\n",
    "new.function(a = 11, b = 5, c = 3)"
   ]
  },
  {
   "cell_type": "markdown",
   "metadata": {},
   "source": [
    "#### Lazy Evaluation- The concept means that memeory is not immediately allocated for functional arguements as soon as they are specified. There are some functional arguements and they are assigned when they are needed so if there is a parameter that is not needed and it is not specified, ther won't be any error"
   ]
  },
  {
   "cell_type": "markdown",
   "metadata": {},
   "source": [
    "### Strings, Vectors, Data structures \n",
    "**NB**: Array starts from 1"
   ]
  },
  {
   "cell_type": "code",
   "execution_count": 8,
   "metadata": {},
   "outputs": [
    {
     "name": "stdout",
     "output_type": "stream",
     "text": [
      "[1] \"This is a string XThis is another strinng\"\n"
     ]
    },
    {
     "data": {
      "text/html": [
       "17"
      ],
      "text/latex": [
       "17"
      ],
      "text/markdown": [
       "17"
      ],
      "text/plain": [
       "[1] 17"
      ]
     },
     "metadata": {},
     "output_type": "display_data"
    },
    {
     "data": {
      "text/html": [
       "'This i'"
      ],
      "text/latex": [
       "'This i'"
      ],
      "text/markdown": [
       "'This i'"
      ],
      "text/plain": [
       "[1] \"This i\""
      ]
     },
     "metadata": {},
     "output_type": "display_data"
    }
   ],
   "source": [
    "a<- \"This is a string \"\n",
    "b<- \"This is another strinng\"\n",
    "print(paste(a,b,sep=\"X\"))  #Sep stands for seperator\n",
    "nchar(a) #Number of characters in a string\n",
    "substring(a,1,6) #Substring output"
   ]
  },
  {
   "cell_type": "code",
   "execution_count": 12,
   "metadata": {},
   "outputs": [
    {
     "data": {
      "text/html": [
       "<ol class=list-inline>\n",
       "\t<li>6</li>\n",
       "\t<li>7</li>\n",
       "\t<li>10</li>\n",
       "</ol>\n"
      ],
      "text/latex": [
       "\\begin{enumerate*}\n",
       "\\item 6\n",
       "\\item 7\n",
       "\\item 10\n",
       "\\end{enumerate*}\n"
      ],
      "text/markdown": [
       "1. 6\n",
       "2. 7\n",
       "3. 10\n",
       "\n",
       "\n"
      ],
      "text/plain": [
       "[1]  6  7 10"
      ]
     },
     "metadata": {},
     "output_type": "display_data"
    },
    {
     "data": {
      "text/html": [
       "<ol class=list-inline>\n",
       "\t<li>5</li>\n",
       "\t<li>6</li>\n",
       "\t<li>7</li>\n",
       "\t<li>8</li>\n",
       "\t<li>9</li>\n",
       "\t<li>10</li>\n",
       "\t<li>11</li>\n",
       "\t<li>12</li>\n",
       "\t<li>13</li>\n",
       "</ol>\n"
      ],
      "text/latex": [
       "\\begin{enumerate*}\n",
       "\\item 5\n",
       "\\item 6\n",
       "\\item 7\n",
       "\\item 8\n",
       "\\item 9\n",
       "\\item 10\n",
       "\\item 11\n",
       "\\item 12\n",
       "\\item 13\n",
       "\\end{enumerate*}\n"
      ],
      "text/markdown": [
       "1. 5\n",
       "2. 6\n",
       "3. 7\n",
       "4. 8\n",
       "5. 9\n",
       "6. 10\n",
       "7. 11\n",
       "8. 12\n",
       "9. 13\n",
       "\n",
       "\n"
      ],
      "text/plain": [
       "[1]  5  6  7  8  9 10 11 12 13"
      ]
     },
     "metadata": {},
     "output_type": "display_data"
    }
   ],
   "source": [
    "a <- seq(5,13,by=1) #By represents step size\n",
    "a[c(2,3,6)] #Integer selction \n",
    "sort(a)  #This function is used to sort arrays\n",
    "# We can do all scalar operations on 2 vectors"
   ]
  },
  {
   "cell_type": "code",
   "execution_count": 19,
   "metadata": {},
   "outputs": [
    {
     "name": "stdout",
     "output_type": "stream",
     "text": [
      "$one\n",
      "[1] \"Sun\"\n",
      "\n",
      "$two\n",
      "[1] \"Mon\"\n",
      "\n",
      "$three\n",
      "[1] \"Tue\"\n",
      "\n",
      "$one\n",
      "[1] \"Sun\"\n",
      "\n"
     ]
    }
   ],
   "source": [
    "list1 <- list(1,2,3)\n",
    "list2 <- list(\"Sun\",\"Mon\",\"Tue\")\n",
    "names(list2)<- c(\"one\",\"two\",\"three\") #We can assign names to list elements like in python dictionaries\n",
    "print(list2)\n",
    "print(list2[\"one\"])"
   ]
  },
  {
   "cell_type": "markdown",
   "metadata": {},
   "source": [
    "### In case of matrixes, it is the same thing as lists but instead of list(), we use matrix(), to construct it\n",
    "### Array is a matrix of n dimensions"
   ]
  },
  {
   "cell_type": "code",
   "execution_count": 20,
   "metadata": {},
   "outputs": [
    {
     "name": "stdout",
     "output_type": "stream",
     "text": [
      ", , Matrix1\n",
      "\n",
      "     COL1 COL2 COL3\n",
      "ROW1    5   10   13\n",
      "ROW2    9   11   14\n",
      "ROW3    3   12   15\n",
      "\n",
      ", , Matrix2\n",
      "\n",
      "     COL1 COL2 COL3\n",
      "ROW1    5   10   13\n",
      "ROW2    9   11   14\n",
      "ROW3    3   12   15\n",
      "\n"
     ]
    }
   ],
   "source": [
    "vector1 <- c(5,9,3)\n",
    "vector2 <- c(10,11,12,13,14,15)\n",
    "column_names <- c(\"COL1\",\"COL2\",\"COL3\")\n",
    "row_names <- c(\"ROW1\",\"ROW2\",\"ROW3\")\n",
    "matrix_names <- c(\"Matrix1\",\"Matrix2\")\n",
    "result <- array(c(vector1,vector2),dim = c(3,3,2),dimnames = list(row_names,column_names,\n",
    "   matrix_names))\n",
    "print(result)"
   ]
  },
  {
   "cell_type": "markdown",
   "metadata": {},
   "source": [
    "## Statistical Operations"
   ]
  },
  {
   "cell_type": "code",
   "execution_count": 22,
   "metadata": {},
   "outputs": [
    {
     "data": {
      "text/html": [
       "8.22"
      ],
      "text/latex": [
       "8.22"
      ],
      "text/markdown": [
       "8.22"
      ],
      "text/plain": [
       "[1] 8.22"
      ]
     },
     "metadata": {},
     "output_type": "display_data"
    },
    {
     "data": {
      "text/html": [
       "5.6"
      ],
      "text/latex": [
       "5.6"
      ],
      "text/markdown": [
       "5.6"
      ],
      "text/plain": [
       "[1] 5.6"
      ]
     },
     "metadata": {},
     "output_type": "display_data"
    },
    {
     "data": {
      "text/html": [
       "'numeric'"
      ],
      "text/latex": [
       "'numeric'"
      ],
      "text/markdown": [
       "'numeric'"
      ],
      "text/plain": [
       "[1] \"numeric\""
      ]
     },
     "metadata": {},
     "output_type": "display_data"
    }
   ],
   "source": [
    "x <- c(12,7,3,4.2,18,2,54,-21,8,-5)\n",
    "mean(x)\n",
    "median(x)\n",
    "#mode is not a well defined dunction in R. We need to dind ourselves\n",
    "#Mode"
   ]
  },
  {
   "cell_type": "markdown",
   "metadata": {},
   "source": [
    "### Random number generation"
   ]
  },
  {
   "cell_type": "code",
   "execution_count": 2,
   "metadata": {},
   "outputs": [
    {
     "data": {
      "text/html": [
       "23.0457735923119"
      ],
      "text/latex": [
       "23.0457735923119"
      ],
      "text/markdown": [
       "23.0457735923119"
      ],
      "text/plain": [
       "[1] 23.04577"
      ]
     },
     "metadata": {},
     "output_type": "display_data"
    }
   ],
   "source": [
    "runif(1,min=20, max=30)"
   ]
  },
  {
   "cell_type": "markdown",
   "metadata": {},
   "source": [
    "### Reading CSV data"
   ]
  },
  {
   "cell_type": "code",
   "execution_count": 27,
   "metadata": {
    "scrolled": true
   },
   "outputs": [
    {
     "name": "stdout",
     "output_type": "stream",
     "text": [
      "[1] \"/home/brainsick/Documents\"\n",
      "[1] \"/home/brainsick\"\n"
     ]
    }
   ],
   "source": [
    "#Geting and setting directories\n",
    "print(getwd())\n",
    "setwd(\"~/\")\n",
    "print(getwd())"
   ]
  },
  {
   "cell_type": "code",
   "execution_count": 32,
   "metadata": {},
   "outputs": [
    {
     "data": {
      "text/html": [
       "<table>\n",
       "<thead><tr><th scope=col>YearsExperience</th><th scope=col>Salary</th></tr></thead>\n",
       "<tbody>\n",
       "\t<tr><td>1.1  </td><td>39343</td></tr>\n",
       "\t<tr><td>1.3  </td><td>46205</td></tr>\n",
       "\t<tr><td>1.5  </td><td>37731</td></tr>\n",
       "\t<tr><td>2.0  </td><td>43525</td></tr>\n",
       "\t<tr><td>2.2  </td><td>39891</td></tr>\n",
       "\t<tr><td>2.9  </td><td>56642</td></tr>\n",
       "</tbody>\n",
       "</table>\n"
      ],
      "text/latex": [
       "\\begin{tabular}{r|ll}\n",
       " YearsExperience & Salary\\\\\n",
       "\\hline\n",
       "\t 1.1   & 39343\\\\\n",
       "\t 1.3   & 46205\\\\\n",
       "\t 1.5   & 37731\\\\\n",
       "\t 2.0   & 43525\\\\\n",
       "\t 2.2   & 39891\\\\\n",
       "\t 2.9   & 56642\\\\\n",
       "\\end{tabular}\n"
      ],
      "text/markdown": [
       "\n",
       "YearsExperience | Salary | \n",
       "|---|---|---|---|---|---|\n",
       "| 1.1   | 39343 | \n",
       "| 1.3   | 46205 | \n",
       "| 1.5   | 37731 | \n",
       "| 2.0   | 43525 | \n",
       "| 2.2   | 39891 | \n",
       "| 2.9   | 56642 | \n",
       "\n",
       "\n"
      ],
      "text/plain": [
       "  YearsExperience Salary\n",
       "1 1.1             39343 \n",
       "2 1.3             46205 \n",
       "3 1.5             37731 \n",
       "4 2.0             43525 \n",
       "5 2.2             39891 \n",
       "6 2.9             56642 "
      ]
     },
     "metadata": {},
     "output_type": "display_data"
    },
    {
     "data": {
      "text/html": [
       "<table>\n",
       "<thead><tr><th></th><th scope=col>YearsExperience</th><th scope=col>Salary</th></tr></thead>\n",
       "<tbody>\n",
       "\t<tr><th scope=row>25</th><td> 8.7  </td><td>109431</td></tr>\n",
       "\t<tr><th scope=row>26</th><td> 9.0  </td><td>105582</td></tr>\n",
       "\t<tr><th scope=row>27</th><td> 9.5  </td><td>116969</td></tr>\n",
       "\t<tr><th scope=row>28</th><td> 9.6  </td><td>112635</td></tr>\n",
       "\t<tr><th scope=row>29</th><td>10.3  </td><td>122391</td></tr>\n",
       "\t<tr><th scope=row>30</th><td>10.5  </td><td>121872</td></tr>\n",
       "</tbody>\n",
       "</table>\n"
      ],
      "text/latex": [
       "\\begin{tabular}{r|ll}\n",
       "  & YearsExperience & Salary\\\\\n",
       "\\hline\n",
       "\t25 &  8.7   & 109431\\\\\n",
       "\t26 &  9.0   & 105582\\\\\n",
       "\t27 &  9.5   & 116969\\\\\n",
       "\t28 &  9.6   & 112635\\\\\n",
       "\t29 & 10.3   & 122391\\\\\n",
       "\t30 & 10.5   & 121872\\\\\n",
       "\\end{tabular}\n"
      ],
      "text/markdown": [
       "\n",
       "| <!--/--> | YearsExperience | Salary | \n",
       "|---|---|---|---|---|---|\n",
       "| 25 |  8.7   | 109431 | \n",
       "| 26 |  9.0   | 105582 | \n",
       "| 27 |  9.5   | 116969 | \n",
       "| 28 |  9.6   | 112635 | \n",
       "| 29 | 10.3   | 122391 | \n",
       "| 30 | 10.5   | 121872 | \n",
       "\n",
       "\n"
      ],
      "text/plain": [
       "   YearsExperience Salary\n",
       "25  8.7            109431\n",
       "26  9.0            105582\n",
       "27  9.5            116969\n",
       "28  9.6            112635\n",
       "29 10.3            122391\n",
       "30 10.5            121872"
      ]
     },
     "metadata": {},
     "output_type": "display_data"
    }
   ],
   "source": [
    "#Importing CSV\n",
    "data <- read.csv(\"Data.csv\") \n",
    "head(data) #Prints data head i.e. first 5 values \n",
    "tail(data) #Print data tail i.e. last 5 values"
   ]
  },
  {
   "cell_type": "code",
   "execution_count": 33,
   "metadata": {},
   "outputs": [
    {
     "data": {
      "text/html": [
       "30"
      ],
      "text/latex": [
       "30"
      ],
      "text/markdown": [
       "30"
      ],
      "text/plain": [
       "[1] 30"
      ]
     },
     "metadata": {},
     "output_type": "display_data"
    },
    {
     "data": {
      "text/html": [
       "2"
      ],
      "text/latex": [
       "2"
      ],
      "text/markdown": [
       "2"
      ],
      "text/plain": [
       "[1] 2"
      ]
     },
     "metadata": {},
     "output_type": "display_data"
    }
   ],
   "source": [
    "nrow(data) #Number of rows\n",
    "ncol(data) #Number of columns"
   ]
  },
  {
   "cell_type": "code",
   "execution_count": 38,
   "metadata": {},
   "outputs": [
    {
     "data": {
      "text/html": [
       "TRUE"
      ],
      "text/latex": [
       "TRUE"
      ],
      "text/markdown": [
       "TRUE"
      ],
      "text/plain": [
       "[1] TRUE"
      ]
     },
     "metadata": {},
     "output_type": "display_data"
    },
    {
     "data": {
      "text/html": [
       "FALSE"
      ],
      "text/latex": [
       "FALSE"
      ],
      "text/markdown": [
       "FALSE"
      ],
      "text/plain": [
       "[1] FALSE"
      ]
     },
     "metadata": {},
     "output_type": "display_data"
    }
   ],
   "source": [
    "is.data.frame(data) \n",
    "is.factor(data) #is.<insert_data_type> checks what kind of data it is"
   ]
  },
  {
   "cell_type": "code",
   "execution_count": 44,
   "metadata": {},
   "outputs": [
    {
     "data": {
      "text/html": [
       "29"
      ],
      "text/latex": [
       "29"
      ],
      "text/markdown": [
       "29"
      ],
      "text/plain": [
       "[1] 29"
      ]
     },
     "metadata": {},
     "output_type": "display_data"
    },
    {
     "data": {
      "text/html": [
       "122391"
      ],
      "text/latex": [
       "122391"
      ],
      "text/markdown": [
       "122391"
      ],
      "text/plain": [
       "[1] 122391"
      ]
     },
     "metadata": {},
     "output_type": "display_data"
    }
   ],
   "source": [
    "which.max(data$Salary) #Checks index of max salary \n",
    "max(data$Salary)  #Finds maximum salary"
   ]
  },
  {
   "cell_type": "code",
   "execution_count": 51,
   "metadata": {},
   "outputs": [
    {
     "name": "stdout",
     "output_type": "stream",
     "text": [
      "   YearsExperience Salary\n",
      "29            10.3 122391\n",
      "30            10.5 121872\n"
     ]
    }
   ],
   "source": [
    "#We can use as many queries to generate subsets\n",
    "retval <- subset(data, Salary > 120000 & Salary!=0)\n",
    "print(retval)"
   ]
  },
  {
   "cell_type": "code",
   "execution_count": 54,
   "metadata": {},
   "outputs": [
    {
     "data": {
      "text/html": [
       "<table>\n",
       "<thead><tr><th scope=col>X</th><th scope=col>YearsExperience</th><th scope=col>Salary</th></tr></thead>\n",
       "<tbody>\n",
       "\t<tr><td>29    </td><td>10.3  </td><td>122391</td></tr>\n",
       "\t<tr><td>30    </td><td>10.5  </td><td>121872</td></tr>\n",
       "</tbody>\n",
       "</table>\n"
      ],
      "text/latex": [
       "\\begin{tabular}{r|lll}\n",
       " X & YearsExperience & Salary\\\\\n",
       "\\hline\n",
       "\t 29     & 10.3   & 122391\\\\\n",
       "\t 30     & 10.5   & 121872\\\\\n",
       "\\end{tabular}\n"
      ],
      "text/markdown": [
       "\n",
       "X | YearsExperience | Salary | \n",
       "|---|---|\n",
       "| 29     | 10.3   | 122391 | \n",
       "| 30     | 10.5   | 121872 | \n",
       "\n",
       "\n"
      ],
      "text/plain": [
       "  X  YearsExperience Salary\n",
       "1 29 10.3            122391\n",
       "2 30 10.5            121872"
      ]
     },
     "metadata": {},
     "output_type": "display_data"
    }
   ],
   "source": [
    "#Dataframes can be written into CSVs as well \n",
    "write.csv(retval,\"output.csv\")\n",
    "xxx<- read.csv(\"output.csv\")\n",
    "head(xxx)"
   ]
  },
  {
   "cell_type": "markdown",
   "metadata": {},
   "source": [
    "### Installing and viewing packages"
   ]
  },
  {
   "cell_type": "code",
   "execution_count": 56,
   "metadata": {},
   "outputs": [
    {
     "name": "stderr",
     "output_type": "stream",
     "text": [
      "Installing package into ‘/home/brainsick/R/x86_64-pc-linux-gnu-library/3.4’\n",
      "(as ‘lib’ is unspecified)\n",
      "also installing the dependencies ‘rJava’, ‘xlsxjars’\n",
      "\n"
     ]
    }
   ],
   "source": [
    "install.packages(\"xlsx\") #To read Excel files"
   ]
  },
  {
   "cell_type": "code",
   "execution_count": 4,
   "metadata": {},
   "outputs": [],
   "source": [
    "library(xlsx) #This is how you import a library in R\n",
    "#Readin xlsx works the same way, you just use read.sxlx function instead of read.csv and everything else is similar"
   ]
  },
  {
   "cell_type": "markdown",
   "metadata": {},
   "source": [
    "## Basic Plotting with ggplot2"
   ]
  },
  {
   "cell_type": "code",
   "execution_count": 5,
   "metadata": {},
   "outputs": [
    {
     "name": "stderr",
     "output_type": "stream",
     "text": [
      "Installing package into ‘/home/brainsick/R/x86_64-pc-linux-gnu-library/3.4’\n",
      "(as ‘lib’ is unspecified)\n",
      "also installing the dependencies ‘colorspace’, ‘assertthat’, ‘fansi’, ‘utf8’, ‘labeling’, ‘munsell’, ‘R6’, ‘RColorBrewer’, ‘cli’, ‘pillar’, ‘gtable’, ‘lazyeval’, ‘plyr’, ‘reshape2’, ‘rlang’, ‘scales’, ‘tibble’, ‘viridisLite’, ‘withr’\n",
      "\n"
     ]
    }
   ],
   "source": [
    "install.packages(\"ggplot2\")"
   ]
  },
  {
   "cell_type": "code",
   "execution_count": 8,
   "metadata": {},
   "outputs": [],
   "source": [
    "library(ggplot2)"
   ]
  },
  {
   "cell_type": "code",
   "execution_count": 9,
   "metadata": {},
   "outputs": [
    {
     "data": {},
     "metadata": {},
     "output_type": "display_data"
    },
    {
     "data": {
      "image/png": "[encoded data removed]",
      "text/plain": [
       "plot without title"
      ]
     },
     "metadata": {},
     "output_type": "display_data"
    }
   ],
   "source": [
    "options(scipen=999)  # turn off scientific notation like 1e+06\n",
    "data(\"midwest\", package = \"ggplot2\")  # load the data\n",
    "ggplot(midwest, aes(x=area, y=poptotal))  # area and poptotal are columns in 'midwest'"
   ]
  },
  {
   "cell_type": "code",
   "execution_count": null,
   "metadata": {},
   "outputs": [],
   "source": []
  }
 ],
 "metadata": {
  "kernelspec": {
   "display_name": "R",
   "language": "R",
   "name": "ir"
  },
  "language_info": {
   "codemirror_mode": "r",
   "file_extension": ".r",
   "mimetype": "text/x-r-source",
   "name": "R",
   "pygments_lexer": "r",
   "version": "3.4.2"
  },
  "widgets": {
   "state": {},
   "version": "1.1.2"
  }
 },
 "nbformat": 4,
 "nbformat_minor": 2
}
